{
 "cells": [
  {
   "cell_type": "code",
   "execution_count": 13,
   "metadata": {},
   "outputs": [],
   "source": [
    "graph = {'A': {'B': 14, 'C': 9, 'D': 7},\n",
    "         'B': {'A': 14, 'C': 2, 'F': 9},\n",
    "         'C': {'A':  9, 'B': 2, 'D': 7, 'E': 11},\n",
    "         'D': {'A':  7, 'C':10, 'E':15},\n",
    "         'E': {'C': 11, 'D':15, 'F': 6},\n",
    "         'F': {'B':  9, 'E': 6}\n",
    "        }"
   ]
  },
  {
   "cell_type": "code",
   "execution_count": 14,
   "metadata": {},
   "outputs": [
    {
     "data": {
      "text/plain": [
       "2"
      ]
     },
     "execution_count": 14,
     "metadata": {},
     "output_type": "execute_result"
    }
   ],
   "source": [
    "graph['C']['B']"
   ]
  },
  {
   "cell_type": "code",
   "execution_count": 15,
   "metadata": {},
   "outputs": [
    {
     "data": {
      "text/plain": [
       "2"
      ]
     },
     "execution_count": 15,
     "metadata": {},
     "output_type": "execute_result"
    }
   ],
   "source": [
    "# equivalently:\n",
    "graph['B']['C']"
   ]
  },
  {
   "cell_type": "code",
   "execution_count": 16,
   "metadata": {},
   "outputs": [
    {
     "data": {
      "text/plain": [
       "True"
      ]
     },
     "execution_count": 16,
     "metadata": {},
     "output_type": "execute_result"
    }
   ],
   "source": [
    "float('inf') > 99"
   ]
  },
  {
   "cell_type": "code",
   "execution_count": 17,
   "metadata": {},
   "outputs": [
    {
     "name": "stdout",
     "output_type": "stream",
     "text": [
      "Costs: {'A': 0, 'B': 11, 'C': 9, 'D': 7, 'E': 20, 'F': 20}\n",
      "Parent Nodes: {'B': 'C', 'C': 'A', 'D': 'A', 'E': 'C', 'F': 'B'}\n"
     ]
    }
   ],
   "source": [
    "def dijkstra(graph, start, destination):\n",
    "\n",
    "    # inicializar costo con el nodo y sus vecinos\n",
    "    costs = {node: float('inf') for node in graph.keys()}\n",
    "    costs[start] = 0\n",
    "    # Usar los parent_nodes para controlar la cadena\n",
    "    # de nodos para buscar el camino corto\n",
    "    parent_nodes = {}\n",
    "    for neighbor in graph[start].keys():\n",
    "        costs[neighbor] = graph[start][neighbor]\n",
    "        parent_nodes[neighbor] = start\n",
    "    \n",
    "    nodes_checked = set()\n",
    "    while not len(nodes_checked) == len(graph.keys()):\n",
    "        \n",
    "        # Obtener el nodo con costo menor\n",
    "        min_cost, min_cost_node = float('inf'), None\n",
    "        for node in costs:\n",
    "            curr_cost = costs[node]\n",
    "            if curr_cost < min_cost and node not in nodes_checked:\n",
    "                min_cost, min_cost_node = curr_cost, node\n",
    "                \n",
    "        # Comprobar si podemos alcanzar alguno de los nodos vecinos de menor costo\n",
    "        # pasando por el nodo de menor costo\n",
    "        for neighbor in graph[min_cost_node].keys():\n",
    "            new_cost = min_cost + graph[min_cost_node][neighbor]\n",
    "            if new_cost < costs[neighbor]:\n",
    "                costs[neighbor] = new_cost\n",
    "                parent_nodes[neighbor] = min_cost_node\n",
    "                \n",
    "        # Parar si visitamos el destino\n",
    "            if neighbor == destination:\n",
    "                break\n",
    "        if neighbor == destination:\n",
    "                break\n",
    "    \n",
    "        # Añadir el nodo a los nodos revisados\n",
    "        nodes_checked.add(min_cost_node)\n",
    "            \n",
    "    return costs, parent_nodes\n",
    "\n",
    "\n",
    "costs, parent_nodes = dijkstra(graph, start='A', destination='F')\n",
    "\n",
    "print('Costs:', costs)\n",
    "print('Parent Nodes:', parent_nodes)"
   ]
  },
  {
   "cell_type": "code",
   "execution_count": null,
   "metadata": {},
   "outputs": [],
   "source": []
  }
 ],
 "metadata": {
  "kernelspec": {
   "display_name": "Python 3",
   "language": "python",
   "name": "python3"
  },
  "language_info": {
   "codemirror_mode": {
    "name": "ipython",
    "version": 3
   },
   "file_extension": ".py",
   "mimetype": "text/x-python",
   "name": "python",
   "nbconvert_exporter": "python",
   "pygments_lexer": "ipython3",
   "version": "3.7.1"
  }
 },
 "nbformat": 4,
 "nbformat_minor": 2
}
