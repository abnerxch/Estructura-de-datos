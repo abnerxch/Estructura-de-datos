{
 "cells": [
  {
   "cell_type": "code",
   "execution_count": 22,
   "metadata": {},
   "outputs": [],
   "source": [
    "from collections import defaultdict \n",
    "\n",
    "class Graph: \n",
    "  \n",
    "    def __init__(self,vertices): \n",
    "        self.V= vertices #No. de vertices \n",
    "        self.graph = [] # grafo\n",
    "    def addEdge(self,u,v,w): \n",
    "        self.graph.append([u, v, w]) \n",
    "    def printArr(self, dist): \n",
    "        print(\"Vertex   Distance from Source\") \n",
    "        for i in range(self.V): \n",
    "            print(\"%d \\t\\t %d\" % (i, dist[i])) \n",
    "\n",
    "    def BellmanFord(self, src): \n",
    "  \n",
    "        # Paso1: Inicializar las distancias de src a los otros vértices como infinitos\n",
    "        dist = [float(\"Inf\")] * self.V \n",
    "        dist[src] = 0 \n",
    "  \n",
    "  \n",
    "        #Paso 2: Relax todos los edges |V| - 1 veces.  \n",
    "\n",
    "        for i in range(self.V - 1): \n",
    "            # Actualizar la distancia\n",
    "            for u, v, w in self.graph: \n",
    "                if dist[u] != float(\"Inf\") and dist[u] + w < dist[v]: \n",
    "                        dist[v] = dist[u] + w \n",
    "  \n",
    "        # Paso 3: detectar ciclos de peso negativo\n",
    "    \n",
    "  \n",
    "        for u, v, w in self.graph: \n",
    "                if dist[u] != float(\"Inf\") and dist[u] + w < dist[v]: \n",
    "                        print (\"Graph contains negative weight cycle\")\n",
    "                        return\n",
    "                          \n",
    "        # Imprimir las distancias\n",
    "        self.printArr(dist) "
   ]
  },
  {
   "cell_type": "code",
   "execution_count": 23,
   "metadata": {},
   "outputs": [
    {
     "name": "stdout",
     "output_type": "stream",
     "text": [
      "Vertex   Distance from Source\n",
      "0 \t\t 0\n",
      "1 \t\t -1\n",
      "2 \t\t 2\n",
      "3 \t\t -2\n",
      "4 \t\t 1\n"
     ]
    }
   ],
   "source": [
    "g = Graph(5) \n",
    "g.addEdge(0, 1, -1) \n",
    "g.addEdge(0, 2, 4) \n",
    "g.addEdge(1, 2, 3) \n",
    "g.addEdge(1, 3, 2) \n",
    "g.addEdge(1, 4, 2) \n",
    "g.addEdge(3, 2, 5) \n",
    "g.addEdge(3, 1, 1) \n",
    "g.addEdge(4, 3, -3) \n",
    "  \n",
    "g.BellmanFord(0) "
   ]
  },
  {
   "cell_type": "code",
   "execution_count": null,
   "metadata": {},
   "outputs": [],
   "source": []
  }
 ],
 "metadata": {
  "kernelspec": {
   "display_name": "Python 3",
   "language": "python",
   "name": "python3"
  },
  "language_info": {
   "codemirror_mode": {
    "name": "ipython",
    "version": 3
   },
   "file_extension": ".py",
   "mimetype": "text/x-python",
   "name": "python",
   "nbconvert_exporter": "python",
   "pygments_lexer": "ipython3",
   "version": "3.7.1"
  }
 },
 "nbformat": 4,
 "nbformat_minor": 2
}
